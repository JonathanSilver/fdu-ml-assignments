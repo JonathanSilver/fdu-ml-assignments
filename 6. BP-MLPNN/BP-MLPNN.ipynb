{
 "cells": [
  {
   "cell_type": "markdown",
   "metadata": {},
   "source": [
    "# 任务描述\n",
    "\n",
    "- 基于MNIST数据集，设计分类器实现手写数字分类。\n",
    "\n",
    "\n",
    "# 数据描述\n",
    "\n",
    "[MNIST](http://yann.lecun.com/exdb/mnist/)数据集，包含60,000个训练集样本与10,000个测试集样本。\n",
    "\n",
    "每个样本是一个28\\*28的灰度图："
   ]
  },
  {
   "cell_type": "code",
   "execution_count": 1,
   "metadata": {
    "scrolled": false
   },
   "outputs": [
    {
     "name": "stdout",
     "output_type": "stream",
     "text": [
      "Magic: 2051, Total Images: 60000, Size: 28*28\n",
      "Magic: 2049, Total Images: 60000\n",
      "Magic: 2051, Total Images: 10000, Size: 28*28\n",
      "Magic: 2049, Total Images: 10000\n"
     ]
    },
    {
     "data": {
      "image/png": "[encoded data removed]",
      "text/plain": [
       "<Figure size 720x144 with 4 Axes>"
      ]
     },
     "metadata": {
      "needs_background": "light"
     },
     "output_type": "display_data"
    }
   ],
   "source": [
    "import numpy as np\n",
    "import matplotlib.pyplot as plt\n",
    "import struct\n",
    "\n",
    "\n",
    "def decode_idx3_ubyte(idx3_ubyte_file):\n",
    "    bin_data = open(idx3_ubyte_file, 'rb').read()\n",
    "    offset = 0\n",
    "    fmt_header = '>iiii'\n",
    "    magic_number, num_images, num_rows, num_cols = \\\n",
    "        struct.unpack_from(fmt_header, bin_data, offset)\n",
    "    print('Magic: %d, Total Images: %d, Size: %d*%d' % \n",
    "          (magic_number, num_images, num_rows, num_cols))\n",
    "    image_size = num_rows * num_cols\n",
    "    offset += struct.calcsize(fmt_header)\n",
    "    fmt_image = '>' + str(image_size) + 'B'\n",
    "    images = np.empty((num_images, num_rows, num_cols))\n",
    "    for i in range(num_images):\n",
    "        images[i] = np.array(\n",
    "            struct.unpack_from(fmt_image, bin_data, offset)) \\\n",
    "            .reshape((num_rows, num_cols))\n",
    "        offset += struct.calcsize(fmt_image)\n",
    "    return images\n",
    "\n",
    "\n",
    "def decode_idx1_ubyte(idx1_ubyte_file):\n",
    "    bin_data = open(idx1_ubyte_file, 'rb').read()\n",
    "    offset = 0\n",
    "    fmt_header = '>ii'\n",
    "    magic_number, num_images = \\\n",
    "        struct.unpack_from(fmt_header, bin_data, offset)\n",
    "    print('Magic: %d, Total Images: %d' % (magic_number, num_images))\n",
    "    offset += struct.calcsize(fmt_header)\n",
    "    fmt_image = '>B'\n",
    "    labels = np.empty(num_images)\n",
    "    for i in range(num_images):\n",
    "        labels[i], = struct.unpack_from(fmt_image, bin_data, offset)\n",
    "        offset += struct.calcsize(fmt_image)\n",
    "    return labels\n",
    "\n",
    "\n",
    "def prepare_dataset(images_file, labels_file, size, num=None):\n",
    "    images = decode_idx3_ubyte(images_file)\n",
    "    images = images.reshape((-1, size))\n",
    "    labels = decode_idx1_ubyte(labels_file)\n",
    "    labels = np.array(labels, dtype=np.int)\n",
    "    # shuffle\n",
    "    idx = np.arange(labels.shape[0])\n",
    "    np.random.shuffle(idx)\n",
    "    if num is not None:\n",
    "        idx = idx[:num]\n",
    "    images = images[idx]\n",
    "    labels = labels[idx]\n",
    "    return images, labels\n",
    "\n",
    "\n",
    "train_images_idx3_ubyte_file = './mnist/train-images.idx3-ubyte'\n",
    "train_labels_idx1_ubyte_file = './mnist/train-labels.idx1-ubyte'\n",
    "test_images_idx3_ubyte_file = './mnist/t10k-images.idx3-ubyte'\n",
    "test_labels_idx1_ubyte_file = './mnist/t10k-labels.idx1-ubyte'\n",
    "SIZE = 28 * 28\n",
    "\n",
    "np.random.seed(1)\n",
    "\n",
    "train_images, train_labels = \\\n",
    "    prepare_dataset(train_images_idx3_ubyte_file,\n",
    "                    train_labels_idx1_ubyte_file, SIZE)\n",
    "test_images, test_labels = \\\n",
    "    prepare_dataset(test_images_idx3_ubyte_file,\n",
    "                    test_labels_idx1_ubyte_file, SIZE)\n",
    "\n",
    "plt.figure(figsize=(10, 2))\n",
    "for i in range(4):\n",
    "    ax = plt.subplot(141 + i)\n",
    "    plt.imshow(train_images[i].reshape((28, 28)), cmap='binary')\n",
    "    ax.set_title(str(train_labels[i]))\n",
    "plt.show()"
   ]
  },
  {
   "cell_type": "markdown",
   "metadata": {},
   "source": [
    "# 数据预处理\n",
    "\n",
    "将图像灰度值映射到$[0,1]$之间："
   ]
  },
  {
   "cell_type": "code",
   "execution_count": 2,
   "metadata": {},
   "outputs": [],
   "source": [
    "train_images /= 255\n",
    "test_images /= 255"
   ]
  },
  {
   "cell_type": "markdown",
   "metadata": {},
   "source": [
    "# 算法介绍\n",
    "\n",
    "## 多层感知机-神经网络（MLP-NN）\n",
    "\n",
    "### 算法原理\n",
    "\n",
    "多层感知机的预测结果：\n",
    "$$\\boldsymbol{y}=\\boldsymbol{w}_2^{\\top}\\sigma\\left(\\boldsymbol{w}_1^{\\top}\\boldsymbol{X}+\\boldsymbol{b}_1\\right)+\\boldsymbol{b}_2$$\n",
    "其中，$\\boldsymbol{w}_1\\in\\mathbb{R}^{M\\times H}$，$\\boldsymbol{b}_1\\in\\mathbb{R}^{H}$，$\\boldsymbol{w}_2\\in\\mathbb{R}^{H\\times K}$，$\\boldsymbol{b}_2\\in\\mathbb{R}^{K}$，$K$为类别数，$H$为隐藏层大小，$\\sigma(\\cdot)$为非线性激活函数。\n",
    "\n",
    "\n",
    "### 算法实现\n",
    "\n",
    "本报告基于Tensorflow实现多层感知机-神经网络（TF-MLP-NN）。使用2种激活函数，分别对应不同的损失函数：\n",
    "\n",
    "- ReLU激活函数与Softmax Cross Entropy损失函数（TF-MLP-NN-BCE）；\n",
    "\n",
    "- Sigmoid激活函数与平方损失函数（TF-MLP-NN-Sqr）。\n"
   ]
  },
  {
   "cell_type": "code",
   "execution_count": null,
   "metadata": {},
   "outputs": [],
   "source": [
    "class MLP:\n",
    "\n",
    "    def __init__(self, n_features, n_hidden, n_classes,\n",
    "                 alpha=0.0001, fn='relu_bce'):\n",
    "        w1 = tf.Variable(tf.random_normal([n_features, n_hidden]))\n",
    "        b1 = tf.Variable(tf.random_normal([1, n_hidden]))\n",
    "        w2 = tf.Variable(tf.random_normal([n_hidden, n_classes]))\n",
    "        b2 = tf.Variable(tf.random_normal([1, n_classes]))\n",
    "        self.X = tf.placeholder(dtype=tf.float32,\n",
    "                                shape=[None, n_features])\n",
    "        self.y = tf.placeholder(dtype=tf.float32,\n",
    "                                shape=[None, n_classes])\n",
    "        if fn == 'relu_bce':\n",
    "            h = tf.nn.relu(tf.matmul(self.X, w1) + b1)\n",
    "            self.pred = tf.matmul(h, w2) + b2\n",
    "            self.loss = tf.reduce_mean(\n",
    "                tf.nn.softmax_cross_entropy_with_logits_v2(labels=self.y,\n",
    "                                                           logits=self.pred))\n",
    "        else:  # sigmoid_sqr\n",
    "            h = tf.nn.sigmoid(tf.matmul(self.X, w1) + b1)\n",
    "            self.pred = tf.nn.sigmoid(tf.matmul(h, w2) + b2)\n",
    "            self.loss = tf.reduce_mean(\n",
    "                (self.y - self.pred) ** 2)\n",
    "        self.loss += alpha * (tf.reduce_sum(w1 ** 2)\n",
    "                              + tf.reduce_sum(w2 ** 2))\n",
    "        optimizer = tf.train.AdamOptimizer()\n",
    "        grads_and_vars = optimizer.compute_gradients(self.loss)\n",
    "        self.train_op = optimizer.apply_gradients(grads_and_vars)\n",
    "\n",
    "\n",
    "batch_size = 500\n",
    "n_epochs = 200\n",
    "idx = np.arange(train_images.shape[0], dtype=np.int)\n",
    "train_labels = np.eye(10)[train_labels]\n",
    "\n",
    "best = 0\n",
    "\n",
    "with tf.Graph().as_default():\n",
    "    tf.set_random_seed(1)\n",
    "    classifier = MLP(SIZE, 100, 10)\n",
    "    with tf.Session() as sess:\n",
    "        sess.run(tf.global_variables_initializer())\n",
    "        for epoch in range(n_epochs):\n",
    "            print('epoch', epoch)\n",
    "            # train\n",
    "            np.random.shuffle(idx)\n",
    "            for k in range(0, train_images.shape[0], batch_size):\n",
    "                batch_idx = idx[k:min(k + batch_size,\n",
    "                                      train_images.shape[0])]\n",
    "                batch_image = train_images[batch_idx]\n",
    "                batch_label = train_labels[batch_idx]\n",
    "                sess.run(classifier.train_op, feed_dict={\n",
    "                    classifier.X: batch_image,\n",
    "                    classifier.y: batch_label\n",
    "                })\n",
    "            # evaluate\n",
    "            pred = sess.run(tf.argmax(classifier.pred, axis=-1),\n",
    "                            feed_dict={\n",
    "                classifier.X: test_images\n",
    "            })\n",
    "            correct = np.sum(pred == test_labels)\n",
    "            accuracy = correct / test_labels.shape[0]\n",
    "            print('accuracy:',\n",
    "                  correct, '/', test_labels.shape[0],\n",
    "                  '=', accuracy)\n",
    "            best = max(best, accuracy)\n",
    "\n",
    "print('-' * 30)\n",
    "print('best:', best)"
   ]
  },
  {
   "cell_type": "markdown",
   "metadata": {},
   "source": [
    "# 实验结果与分析\n",
    "\n",
    "本报告使用正确率作为评价指标，正确率是分类器正确分类的数量与测试集总量的比值。\n",
    "\n",
    "\n",
    "## 实验结果\n",
    "\n",
    "调用Scikit-Learn中的MLP（SL-MLP-NN）："
   ]
  },
  {
   "cell_type": "code",
   "execution_count": null,
   "metadata": {},
   "outputs": [],
   "source": [
    "from sklearn.neural_network import MLPClassifier\n",
    "\n",
    "pred = MLPClassifier() \\\n",
    "    .fit(train_images, train_labels) \\\n",
    "    .predict(test_images)\n",
    "correct = np.sum(pred == test_labels)\n",
    "total = test_labels.shape[0]\n",
    "print(correct / total)"
   ]
  },
  {
   "cell_type": "markdown",
   "metadata": {},
   "source": [
    "汇总的实验结果：\n",
    "\n",
    "|模型|准确率|\n",
    "|:-:|:-:|\n",
    "|SL-MLP-NN|0.9780|\n",
    "|TF-MLP-NN-Sqr|0.9156|\n",
    "|TF-MLP-NN-BCE|0.9813|\n",
    "\n",
    "\n",
    "## 实验结果分析\n",
    "\n",
    "实验中，TF-MLP-NN-BCE预测性能超过SL-MLP-NN。使用ReLU+Softmax Cross Entropy的TF-MLP-NN-BCE比使用Sigmoid+平方损失函数的TF-MLP-NN-Sqr预测性能更好，说明激活函数与损失函数会影响MLP-NN的预测性能。"
   ]
  }
 ],
 "metadata": {
  "kernelspec": {
   "display_name": "Python 3",
   "language": "python",
   "name": "python3"
  },
  "language_info": {
   "codemirror_mode": {
    "name": "ipython",
    "version": 3
   },
   "file_extension": ".py",
   "mimetype": "text/x-python",
   "name": "python",
   "nbconvert_exporter": "python",
   "pygments_lexer": "ipython3",
   "version": "3.8.5"
  }
 },
 "nbformat": 4,
 "nbformat_minor": 4
}
